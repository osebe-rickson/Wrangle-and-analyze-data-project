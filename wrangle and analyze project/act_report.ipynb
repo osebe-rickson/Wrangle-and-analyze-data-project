{
 "cells": [
  {
   "cell_type": "code",
   "execution_count": 5,
   "id": "627e8986",
   "metadata": {},
   "outputs": [],
   "source": [
    "#loading the neccessary libraries for analysis and visualization\n",
    "import pandas as pd\n",
    "import numpy as np\n",
    "import matplotlib.pyplot as plt\n",
    "%matplotlib inline\n",
    "import seaborn as sns"
   ]
  },
  {
   "cell_type": "code",
   "execution_count": 6,
   "id": "e6300896",
   "metadata": {},
   "outputs": [
    {
     "data": {
      "text/html": [
       "<div>\n",
       "<style scoped>\n",
       "    .dataframe tbody tr th:only-of-type {\n",
       "        vertical-align: middle;\n",
       "    }\n",
       "\n",
       "    .dataframe tbody tr th {\n",
       "        vertical-align: top;\n",
       "    }\n",
       "\n",
       "    .dataframe thead th {\n",
       "        text-align: right;\n",
       "    }\n",
       "</style>\n",
       "<table border=\"1\" class=\"dataframe\">\n",
       "  <thead>\n",
       "    <tr style=\"text-align: right;\">\n",
       "      <th></th>\n",
       "      <th>tweet_id</th>\n",
       "      <th>in_reply_to_status_id</th>\n",
       "      <th>in_reply_to_user_id</th>\n",
       "      <th>timestamp</th>\n",
       "      <th>text</th>\n",
       "      <th>retweeted_status_id</th>\n",
       "      <th>retweeted_status_user_id</th>\n",
       "      <th>retweeted_status_timestamp</th>\n",
       "      <th>expanded_urls</th>\n",
       "      <th>rating_numerator</th>\n",
       "      <th>...</th>\n",
       "      <th>img_num</th>\n",
       "      <th>p1</th>\n",
       "      <th>p1_conf</th>\n",
       "      <th>p1_dog</th>\n",
       "      <th>p2</th>\n",
       "      <th>p2_conf</th>\n",
       "      <th>p2_dog</th>\n",
       "      <th>p3</th>\n",
       "      <th>p3_conf</th>\n",
       "      <th>p3_dog</th>\n",
       "    </tr>\n",
       "  </thead>\n",
       "  <tbody>\n",
       "    <tr>\n",
       "      <th>0</th>\n",
       "      <td>892420643555336193</td>\n",
       "      <td>NaN</td>\n",
       "      <td>NaN</td>\n",
       "      <td>2017-08-01 16:23:56</td>\n",
       "      <td>This is Phineas. He's a mystical boy. Only eve...</td>\n",
       "      <td>NaN</td>\n",
       "      <td>NaN</td>\n",
       "      <td>NaN</td>\n",
       "      <td>https://twitter.com/dog_rates/status/892420643...</td>\n",
       "      <td>13</td>\n",
       "      <td>...</td>\n",
       "      <td>1</td>\n",
       "      <td>orange</td>\n",
       "      <td>0.097049</td>\n",
       "      <td>False</td>\n",
       "      <td>bagel</td>\n",
       "      <td>0.085851</td>\n",
       "      <td>False</td>\n",
       "      <td>banana</td>\n",
       "      <td>0.076110</td>\n",
       "      <td>False</td>\n",
       "    </tr>\n",
       "    <tr>\n",
       "      <th>1</th>\n",
       "      <td>892177421306343426</td>\n",
       "      <td>NaN</td>\n",
       "      <td>NaN</td>\n",
       "      <td>2017-08-01 00:17:27</td>\n",
       "      <td>This is Tilly. She's just checking pup on you....</td>\n",
       "      <td>NaN</td>\n",
       "      <td>NaN</td>\n",
       "      <td>NaN</td>\n",
       "      <td>https://twitter.com/dog_rates/status/892177421...</td>\n",
       "      <td>13</td>\n",
       "      <td>...</td>\n",
       "      <td>1</td>\n",
       "      <td>Chihuahua</td>\n",
       "      <td>0.323581</td>\n",
       "      <td>True</td>\n",
       "      <td>Pekinese</td>\n",
       "      <td>0.090647</td>\n",
       "      <td>True</td>\n",
       "      <td>papillon</td>\n",
       "      <td>0.068957</td>\n",
       "      <td>True</td>\n",
       "    </tr>\n",
       "    <tr>\n",
       "      <th>2</th>\n",
       "      <td>891815181378084864</td>\n",
       "      <td>NaN</td>\n",
       "      <td>NaN</td>\n",
       "      <td>2017-07-31 00:18:03</td>\n",
       "      <td>This is Archie. He is a rare Norwegian Pouncin...</td>\n",
       "      <td>NaN</td>\n",
       "      <td>NaN</td>\n",
       "      <td>NaN</td>\n",
       "      <td>https://twitter.com/dog_rates/status/891815181...</td>\n",
       "      <td>12</td>\n",
       "      <td>...</td>\n",
       "      <td>1</td>\n",
       "      <td>Chihuahua</td>\n",
       "      <td>0.716012</td>\n",
       "      <td>True</td>\n",
       "      <td>malamute</td>\n",
       "      <td>0.078253</td>\n",
       "      <td>True</td>\n",
       "      <td>kelpie</td>\n",
       "      <td>0.031379</td>\n",
       "      <td>True</td>\n",
       "    </tr>\n",
       "    <tr>\n",
       "      <th>3</th>\n",
       "      <td>891689557279858688</td>\n",
       "      <td>NaN</td>\n",
       "      <td>NaN</td>\n",
       "      <td>2017-07-30 15:58:51</td>\n",
       "      <td>This is Darla. She commenced a snooze mid meal...</td>\n",
       "      <td>NaN</td>\n",
       "      <td>NaN</td>\n",
       "      <td>NaN</td>\n",
       "      <td>https://twitter.com/dog_rates/status/891689557...</td>\n",
       "      <td>13</td>\n",
       "      <td>...</td>\n",
       "      <td>1</td>\n",
       "      <td>paper_towel</td>\n",
       "      <td>0.170278</td>\n",
       "      <td>False</td>\n",
       "      <td>Labrador_retriever</td>\n",
       "      <td>0.168086</td>\n",
       "      <td>True</td>\n",
       "      <td>spatula</td>\n",
       "      <td>0.040836</td>\n",
       "      <td>False</td>\n",
       "    </tr>\n",
       "    <tr>\n",
       "      <th>4</th>\n",
       "      <td>891327558926688256</td>\n",
       "      <td>NaN</td>\n",
       "      <td>NaN</td>\n",
       "      <td>2017-07-29 16:00:24</td>\n",
       "      <td>This is Franklin. He would like you to stop ca...</td>\n",
       "      <td>NaN</td>\n",
       "      <td>NaN</td>\n",
       "      <td>NaN</td>\n",
       "      <td>https://twitter.com/dog_rates/status/891327558...</td>\n",
       "      <td>12</td>\n",
       "      <td>...</td>\n",
       "      <td>2</td>\n",
       "      <td>basset</td>\n",
       "      <td>0.555712</td>\n",
       "      <td>True</td>\n",
       "      <td>English_springer</td>\n",
       "      <td>0.225770</td>\n",
       "      <td>True</td>\n",
       "      <td>German_short-haired_pointer</td>\n",
       "      <td>0.175219</td>\n",
       "      <td>True</td>\n",
       "    </tr>\n",
       "  </tbody>\n",
       "</table>\n",
       "<p>5 rows × 26 columns</p>\n",
       "</div>"
      ],
      "text/plain": [
       "             tweet_id  in_reply_to_status_id  in_reply_to_user_id  \\\n",
       "0  892420643555336193                    NaN                  NaN   \n",
       "1  892177421306343426                    NaN                  NaN   \n",
       "2  891815181378084864                    NaN                  NaN   \n",
       "3  891689557279858688                    NaN                  NaN   \n",
       "4  891327558926688256                    NaN                  NaN   \n",
       "\n",
       "             timestamp                                               text  \\\n",
       "0  2017-08-01 16:23:56  This is Phineas. He's a mystical boy. Only eve...   \n",
       "1  2017-08-01 00:17:27  This is Tilly. She's just checking pup on you....   \n",
       "2  2017-07-31 00:18:03  This is Archie. He is a rare Norwegian Pouncin...   \n",
       "3  2017-07-30 15:58:51  This is Darla. She commenced a snooze mid meal...   \n",
       "4  2017-07-29 16:00:24  This is Franklin. He would like you to stop ca...   \n",
       "\n",
       "   retweeted_status_id  retweeted_status_user_id  retweeted_status_timestamp  \\\n",
       "0                  NaN                       NaN                         NaN   \n",
       "1                  NaN                       NaN                         NaN   \n",
       "2                  NaN                       NaN                         NaN   \n",
       "3                  NaN                       NaN                         NaN   \n",
       "4                  NaN                       NaN                         NaN   \n",
       "\n",
       "                                       expanded_urls  rating_numerator  ...  \\\n",
       "0  https://twitter.com/dog_rates/status/892420643...                13  ...   \n",
       "1  https://twitter.com/dog_rates/status/892177421...                13  ...   \n",
       "2  https://twitter.com/dog_rates/status/891815181...                12  ...   \n",
       "3  https://twitter.com/dog_rates/status/891689557...                13  ...   \n",
       "4  https://twitter.com/dog_rates/status/891327558...                12  ...   \n",
       "\n",
       "   img_num           p1   p1_conf  p1_dog                  p2   p2_conf  \\\n",
       "0        1       orange  0.097049   False               bagel  0.085851   \n",
       "1        1    Chihuahua  0.323581    True            Pekinese  0.090647   \n",
       "2        1    Chihuahua  0.716012    True            malamute  0.078253   \n",
       "3        1  paper_towel  0.170278   False  Labrador_retriever  0.168086   \n",
       "4        2       basset  0.555712    True    English_springer  0.225770   \n",
       "\n",
       "   p2_dog                           p3   p3_conf  p3_dog  \n",
       "0   False                       banana  0.076110   False  \n",
       "1    True                     papillon  0.068957    True  \n",
       "2    True                       kelpie  0.031379    True  \n",
       "3    True                      spatula  0.040836   False  \n",
       "4    True  German_short-haired_pointer  0.175219    True  \n",
       "\n",
       "[5 rows x 26 columns]"
      ]
     },
     "execution_count": 6,
     "metadata": {},
     "output_type": "execute_result"
    }
   ],
   "source": [
    "df = pd.read_csv('C:\\\\Users\\\\DELL\\\\Downloads\\\\twitter_archive_master1.csv')\n",
    "df.head()"
   ]
  },
  {
   "cell_type": "markdown",
   "id": "3abcb1a3",
   "metadata": {},
   "source": [
    "### Research questions\n",
    "Before we encounter the questions, there are some limitations to our dataset:\n",
    "    -  The algorithim that has been used to generate names for our dataset may impact our\n",
    "       analysis, since some of the dogs do have the names in their tweets and it has not \n",
    "       correctly named them. Also some of the tweets are from two dogs, but it has only \n",
    "       picked one dog name.\n",
    "    \n",
    "we need to answer the following questions from our dataset:\n",
    "    \n",
    "    1. Which are the most common dog names in our dataset?    \n",
    "    2. a. Which dog stage is most retweed on average?\n",
    "       b.Does top retweed dog stages happen to be most liked?        \n",
    "    3. Do dogs that happen to have high ratings happen to be most liked?"
   ]
  },
  {
   "cell_type": "markdown",
   "id": "0d019bef",
   "metadata": {},
   "source": [
    "### 1 Which are the most common dog names?"
   ]
  },
  {
   "cell_type": "markdown",
   "id": "d4e11144",
   "metadata": {},
   "source": [
    "###### since our datasets contains unnamed dogs we need to remove them, to remain with dogs that have only names."
   ]
  },
  {
   "cell_type": "code",
   "execution_count": 7,
   "id": "089620fa",
   "metadata": {},
   "outputs": [],
   "source": [
    "df_name = df[df[\"name\"] != \"Unnamed\"]"
   ]
  },
  {
   "cell_type": "markdown",
   "id": "15ba3c3b",
   "metadata": {},
   "source": [
    "creating data for most common dogs by taking the top 15 dogs in our dataset"
   ]
  },
  {
   "cell_type": "code",
   "execution_count": 8,
   "id": "3a952e54",
   "metadata": {},
   "outputs": [
    {
     "data": {
      "text/plain": [
       "Charlie    11\n",
       "Oliver     10\n",
       "Cooper     10\n",
       "Lucy       10\n",
       "Penny       9\n",
       "Tucker      9\n",
       "Winston     8\n",
       "Sadie       8\n",
       "Lola        7\n",
       "Daisy       7\n",
       "Toby        7\n",
       "Koda        6\n",
       "Bella       6\n",
       "Jax         6\n",
       "Stanley     6\n",
       "Name: name, dtype: int64"
      ]
     },
     "execution_count": 8,
     "metadata": {},
     "output_type": "execute_result"
    }
   ],
   "source": [
    "common = df_name.name.value_counts().head(15)\n",
    "common"
   ]
  },
  {
   "cell_type": "code",
   "execution_count": 9,
   "id": "be2972df",
   "metadata": {},
   "outputs": [
    {
     "data": {
      "image/png": "[encoded data removed]",
      "text/plain": [
       "<Figure size 432x288 with 1 Axes>"
      ]
     },
     "metadata": {
      "needs_background": "light"
     },
     "output_type": "display_data"
    }
   ],
   "source": [
    "figsize=(16,16)\n",
    "plt.barh(common.index,common)\n",
    "plt.title('Top common dog names')\n",
    "plt.xlabel('Number')\n",
    "plt.ylabel('Dog');"
   ]
  },
  {
   "cell_type": "markdown",
   "id": "89adf43b",
   "metadata": {},
   "source": [
    "###### Charlie can be seen as to be the most common name followed by Oliver, Cooper and Lucy."
   ]
  },
  {
   "cell_type": "markdown",
   "id": "a6deff49",
   "metadata": {},
   "source": [
    "### 2. a. Which dog stage is most retweed on average?\n",
    "###     b.Does top retweed dog stages happen to be most liked"
   ]
  },
  {
   "cell_type": "markdown",
   "id": "36e6c8c7",
   "metadata": {},
   "source": [
    "**Since our dataset contains ungrouped dogs, we need to get rid of ungrouped dogs from our analysis.**"
   ]
  },
  {
   "cell_type": "code",
   "execution_count": 10,
   "id": "37a8480b",
   "metadata": {},
   "outputs": [],
   "source": [
    "df_stage = df[df[\"stage\"] != \"ungrouped\"]"
   ]
  },
  {
   "cell_type": "code",
   "execution_count": 11,
   "id": "d075cf2a",
   "metadata": {},
   "outputs": [],
   "source": [
    "retweet = df_stage.groupby('stage')[['favorite_count','retweet_count']].mean()#['retweet_count']\n",
    "retweet.reset_index(inplace=True)"
   ]
  },
  {
   "cell_type": "code",
   "execution_count": 12,
   "id": "3b97f1e4",
   "metadata": {},
   "outputs": [
    {
     "data": {
      "text/html": [
       "<div>\n",
       "<style scoped>\n",
       "    .dataframe tbody tr th:only-of-type {\n",
       "        vertical-align: middle;\n",
       "    }\n",
       "\n",
       "    .dataframe tbody tr th {\n",
       "        vertical-align: top;\n",
       "    }\n",
       "\n",
       "    .dataframe thead th {\n",
       "        text-align: right;\n",
       "    }\n",
       "</style>\n",
       "<table border=\"1\" class=\"dataframe\">\n",
       "  <thead>\n",
       "    <tr style=\"text-align: right;\">\n",
       "      <th></th>\n",
       "      <th>stage</th>\n",
       "      <th>favorite_count</th>\n",
       "      <th>retweet_count</th>\n",
       "    </tr>\n",
       "  </thead>\n",
       "  <tbody>\n",
       "    <tr>\n",
       "      <th>0</th>\n",
       "      <td>doggo</td>\n",
       "      <td>19356.380952</td>\n",
       "      <td>7125.698413</td>\n",
       "    </tr>\n",
       "    <tr>\n",
       "      <th>1</th>\n",
       "      <td>doggo, floofer</td>\n",
       "      <td>17169.000000</td>\n",
       "      <td>3433.000000</td>\n",
       "    </tr>\n",
       "    <tr>\n",
       "      <th>2</th>\n",
       "      <td>doggo, pupper</td>\n",
       "      <td>12533.111111</td>\n",
       "      <td>4083.444444</td>\n",
       "    </tr>\n",
       "    <tr>\n",
       "      <th>3</th>\n",
       "      <td>doggo, puppo</td>\n",
       "      <td>47844.000000</td>\n",
       "      <td>19196.000000</td>\n",
       "    </tr>\n",
       "    <tr>\n",
       "      <th>4</th>\n",
       "      <td>floofer</td>\n",
       "      <td>13206.000000</td>\n",
       "      <td>4968.714286</td>\n",
       "    </tr>\n",
       "    <tr>\n",
       "      <th>5</th>\n",
       "      <td>pupper</td>\n",
       "      <td>7197.738916</td>\n",
       "      <td>2363.581281</td>\n",
       "    </tr>\n",
       "    <tr>\n",
       "      <th>6</th>\n",
       "      <td>puppo</td>\n",
       "      <td>21582.090909</td>\n",
       "      <td>6473.954545</td>\n",
       "    </tr>\n",
       "  </tbody>\n",
       "</table>\n",
       "</div>"
      ],
      "text/plain": [
       "            stage  favorite_count  retweet_count\n",
       "0           doggo    19356.380952    7125.698413\n",
       "1  doggo, floofer    17169.000000    3433.000000\n",
       "2   doggo, pupper    12533.111111    4083.444444\n",
       "3    doggo, puppo    47844.000000   19196.000000\n",
       "4         floofer    13206.000000    4968.714286\n",
       "5          pupper     7197.738916    2363.581281\n",
       "6           puppo    21582.090909    6473.954545"
      ]
     },
     "execution_count": 12,
     "metadata": {},
     "output_type": "execute_result"
    }
   ],
   "source": [
    "retweet"
   ]
  },
  {
   "cell_type": "code",
   "execution_count": 13,
   "id": "7d1760d6",
   "metadata": {},
   "outputs": [
    {
     "data": {
      "image/png": "[encoded data removed]",
      "text/plain": [
       "<Figure size 432x288 with 1 Axes>"
      ]
     },
     "metadata": {
      "needs_background": "light"
     },
     "output_type": "display_data"
    }
   ],
   "source": [
    "locations = [1, 2, 3, 4]\n",
    "retweet.plot(x=\"stage\", y=[\"favorite_count\", 'retweet_count'], kind='bar')\n",
    "plt.title('Average favorite_count $ retweet count by stage of dog')\n",
    "plt.xlabel('dog stage')\n",
    "plt.ylabel('Average favorite_count $ retweet_count');"
   ]
  },
  {
   "cell_type": "markdown",
   "id": "cd865cc7",
   "metadata": {},
   "source": [
    "It can be noted that dog stages with higher retweet counts also happen to be the most liked dogs."
   ]
  },
  {
   "cell_type": "markdown",
   "id": "bf8482d8",
   "metadata": {},
   "source": [
    "### 3. Do dogs that happen to have high ratings most liked?"
   ]
  },
  {
   "cell_type": "code",
   "execution_count": 14,
   "id": "eee03e22",
   "metadata": {},
   "outputs": [],
   "source": [
    "bin_values = [0.0, 10.0, 11.0, 12.0, 17.0]\n",
    "bin_names =  ['lowly_rated', 'average_rated', 'top_rated', 'highly_rated']"
   ]
  },
  {
   "cell_type": "code",
   "execution_count": 15,
   "id": "c22f58ed",
   "metadata": {},
   "outputs": [
    {
     "data": {
      "text/html": [
       "<div>\n",
       "<style scoped>\n",
       "    .dataframe tbody tr th:only-of-type {\n",
       "        vertical-align: middle;\n",
       "    }\n",
       "\n",
       "    .dataframe tbody tr th {\n",
       "        vertical-align: top;\n",
       "    }\n",
       "\n",
       "    .dataframe thead th {\n",
       "        text-align: right;\n",
       "    }\n",
       "</style>\n",
       "<table border=\"1\" class=\"dataframe\">\n",
       "  <thead>\n",
       "    <tr style=\"text-align: right;\">\n",
       "      <th></th>\n",
       "      <th>tweet_id</th>\n",
       "      <th>in_reply_to_status_id</th>\n",
       "      <th>in_reply_to_user_id</th>\n",
       "      <th>timestamp</th>\n",
       "      <th>text</th>\n",
       "      <th>retweeted_status_id</th>\n",
       "      <th>retweeted_status_user_id</th>\n",
       "      <th>retweeted_status_timestamp</th>\n",
       "      <th>expanded_urls</th>\n",
       "      <th>rating_numerator</th>\n",
       "      <th>...</th>\n",
       "      <th>p1</th>\n",
       "      <th>p1_conf</th>\n",
       "      <th>p1_dog</th>\n",
       "      <th>p2</th>\n",
       "      <th>p2_conf</th>\n",
       "      <th>p2_dog</th>\n",
       "      <th>p3</th>\n",
       "      <th>p3_conf</th>\n",
       "      <th>p3_dog</th>\n",
       "      <th>rating_levels</th>\n",
       "    </tr>\n",
       "  </thead>\n",
       "  <tbody>\n",
       "    <tr>\n",
       "      <th>870</th>\n",
       "      <td>727524757080539137</td>\n",
       "      <td>NaN</td>\n",
       "      <td>NaN</td>\n",
       "      <td>2016-05-03 15:46:33</td>\n",
       "      <td>This pupper had to undergo emergency haircut s...</td>\n",
       "      <td>NaN</td>\n",
       "      <td>NaN</td>\n",
       "      <td>NaN</td>\n",
       "      <td>https://twitter.com/dog_rates/status/727524757...</td>\n",
       "      <td>10</td>\n",
       "      <td>...</td>\n",
       "      <td>Pomeranian</td>\n",
       "      <td>0.958834</td>\n",
       "      <td>True</td>\n",
       "      <td>Chihuahua</td>\n",
       "      <td>0.024099</td>\n",
       "      <td>True</td>\n",
       "      <td>chow</td>\n",
       "      <td>0.003941</td>\n",
       "      <td>True</td>\n",
       "      <td>lowly_rated</td>\n",
       "    </tr>\n",
       "    <tr>\n",
       "      <th>808</th>\n",
       "      <td>739544079319588864</td>\n",
       "      <td>NaN</td>\n",
       "      <td>NaN</td>\n",
       "      <td>2016-06-05 19:47:03</td>\n",
       "      <td>This... is a Tyrannosaurus rex. We only rate d...</td>\n",
       "      <td>NaN</td>\n",
       "      <td>NaN</td>\n",
       "      <td>NaN</td>\n",
       "      <td>https://twitter.com/dog_rates/status/739544079...</td>\n",
       "      <td>10</td>\n",
       "      <td>...</td>\n",
       "      <td>Labrador_retriever</td>\n",
       "      <td>0.967397</td>\n",
       "      <td>True</td>\n",
       "      <td>golden_retriever</td>\n",
       "      <td>0.016641</td>\n",
       "      <td>True</td>\n",
       "      <td>ice_bear</td>\n",
       "      <td>0.014858</td>\n",
       "      <td>False</td>\n",
       "      <td>lowly_rated</td>\n",
       "    </tr>\n",
       "    <tr>\n",
       "      <th>625</th>\n",
       "      <td>764857477905154048</td>\n",
       "      <td>NaN</td>\n",
       "      <td>NaN</td>\n",
       "      <td>2016-08-14 16:13:27</td>\n",
       "      <td>This is Aubie. He has paws for days. Nibbling ...</td>\n",
       "      <td>NaN</td>\n",
       "      <td>NaN</td>\n",
       "      <td>NaN</td>\n",
       "      <td>https://twitter.com/dog_rates/status/764857477...</td>\n",
       "      <td>12</td>\n",
       "      <td>...</td>\n",
       "      <td>Bernese_mountain_dog</td>\n",
       "      <td>0.792059</td>\n",
       "      <td>True</td>\n",
       "      <td>Appenzeller</td>\n",
       "      <td>0.155034</td>\n",
       "      <td>True</td>\n",
       "      <td>EntleBucher</td>\n",
       "      <td>0.038374</td>\n",
       "      <td>True</td>\n",
       "      <td>top_rated</td>\n",
       "    </tr>\n",
       "  </tbody>\n",
       "</table>\n",
       "<p>3 rows × 27 columns</p>\n",
       "</div>"
      ],
      "text/plain": [
       "               tweet_id  in_reply_to_status_id  in_reply_to_user_id  \\\n",
       "870  727524757080539137                    NaN                  NaN   \n",
       "808  739544079319588864                    NaN                  NaN   \n",
       "625  764857477905154048                    NaN                  NaN   \n",
       "\n",
       "               timestamp                                               text  \\\n",
       "870  2016-05-03 15:46:33  This pupper had to undergo emergency haircut s...   \n",
       "808  2016-06-05 19:47:03  This... is a Tyrannosaurus rex. We only rate d...   \n",
       "625  2016-08-14 16:13:27  This is Aubie. He has paws for days. Nibbling ...   \n",
       "\n",
       "     retweeted_status_id  retweeted_status_user_id  \\\n",
       "870                  NaN                       NaN   \n",
       "808                  NaN                       NaN   \n",
       "625                  NaN                       NaN   \n",
       "\n",
       "     retweeted_status_timestamp  \\\n",
       "870                         NaN   \n",
       "808                         NaN   \n",
       "625                         NaN   \n",
       "\n",
       "                                         expanded_urls  rating_numerator  ...  \\\n",
       "870  https://twitter.com/dog_rates/status/727524757...                10  ...   \n",
       "808  https://twitter.com/dog_rates/status/739544079...                10  ...   \n",
       "625  https://twitter.com/dog_rates/status/764857477...                12  ...   \n",
       "\n",
       "                       p1   p1_conf  p1_dog                p2   p2_conf  \\\n",
       "870            Pomeranian  0.958834    True         Chihuahua  0.024099   \n",
       "808    Labrador_retriever  0.967397    True  golden_retriever  0.016641   \n",
       "625  Bernese_mountain_dog  0.792059    True       Appenzeller  0.155034   \n",
       "\n",
       "    p2_dog           p3   p3_conf  p3_dog  rating_levels  \n",
       "870   True         chow  0.003941    True    lowly_rated  \n",
       "808   True     ice_bear  0.014858   False    lowly_rated  \n",
       "625   True  EntleBucher  0.038374    True      top_rated  \n",
       "\n",
       "[3 rows x 27 columns]"
      ]
     },
     "execution_count": 15,
     "metadata": {},
     "output_type": "execute_result"
    }
   ],
   "source": [
    "#create popular level columns\n",
    "df['rating_levels'] = pd.cut(df['rating_numerator'], bin_values, labels=bin_names) \n",
    "df.sample(3)"
   ]
  },
  {
   "cell_type": "code",
   "execution_count": 16,
   "id": "79385eda",
   "metadata": {},
   "outputs": [
    {
     "data": {
      "text/plain": [
       "rating_levels\n",
       "lowly_rated       3469.691937\n",
       "average_rated     6883.035354\n",
       "top_rated        11266.313333\n",
       "highly_rated     22322.215873\n",
       "Name: favorite_count, dtype: float64"
      ]
     },
     "execution_count": 16,
     "metadata": {},
     "output_type": "execute_result"
    }
   ],
   "source": [
    "df_liked = df.groupby('rating_levels').mean().favorite_count\n",
    "df_liked"
   ]
  },
  {
   "cell_type": "code",
   "execution_count": 17,
   "id": "2f3d75fc",
   "metadata": {},
   "outputs": [
    {
     "data": {
      "image/png": "[encoded data removed]",
      "text/plain": [
       "<Figure size 432x288 with 1 Axes>"
      ]
     },
     "metadata": {
      "needs_background": "light"
     },
     "output_type": "display_data"
    }
   ],
   "source": [
    "locations = [1, 2, 3, 4]\n",
    "plt.bar(locations, df_liked, tick_label=df_liked.index)\n",
    "plt.title('Average favorite_count by rating Level')\n",
    "plt.xlabel('rating Level')\n",
    "plt.ylabel('Average favorite_count');"
   ]
  },
  {
   "cell_type": "markdown",
   "id": "84d3e320",
   "metadata": {},
   "source": [
    "it can be observed from our visualization that dogs that are highly rated happen to be most liked."
   ]
  },
  {
   "cell_type": "markdown",
   "id": "bcdb5875",
   "metadata": {},
   "source": [
    "### CONCLUSIONS\n",
    "From our data to answer the research questions we did exclude large amount of data from our dataset\n",
    "which had no names and groups. This remaining data may not well represent the entire dataset.\n",
    "\n",
    "#### Insights\n",
    "1. Which are the most common dog names in our dataset?\n",
    "- The most common dogs in our dataset are: Charlie, Oliver, Cooper and Lucy . Charlie appears\n",
    "  11 times in our datasets then Oliver, Cooper and Lucy tie at second with 10 number of apperrances.\n",
    "2. a. Which dog stage is most retweed on average?\n",
    "- The most retweed dog stage is doggo, puppo then followed by doggo and then puppo. The most retweeted \n",
    "  beats the second by almost three times\n",
    "   b.Does top retweed dog stages happen to be most liked? \n",
    "- It is generally clear that the most retweed dog stages also happen to be most liked. doggo, puppo\n",
    "  leads in both.\n",
    "3. Do dogs that happen to have high ratings happen to be most liked?\n",
    "- There is a general trend of increasing favorite_count from lowly rated dogs to highly rated dogs.\n",
    "  This indicates dogs that have high ratings, happen also to be most liked among our dog dataset."
   ]
  }
 ],
 "metadata": {
  "kernelspec": {
   "display_name": "Python 3 (ipykernel)",
   "language": "python",
   "name": "python3"
  },
  "language_info": {
   "codemirror_mode": {
    "name": "ipython",
    "version": 3
   },
   "file_extension": ".py",
   "mimetype": "text/x-python",
   "name": "python",
   "nbconvert_exporter": "python",
   "pygments_lexer": "ipython3",
   "version": "3.9.7"
  }
 },
 "nbformat": 4,
 "nbformat_minor": 5
}
